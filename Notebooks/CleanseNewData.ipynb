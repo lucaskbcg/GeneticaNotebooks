{
 "cells": [
  {
   "cell_type": "code",
   "execution_count": null,
   "id": "f1f817c8-30ee-4648-a9db-3aceeebd97be",
   "metadata": {},
   "outputs": [],
   "source": [
    "# Pull data from api\n",
    "import pandas as pd\n",
    "from sqlalchemy import create_engine\n",
    "\n",
    "# Create a database connection\n",
    "engine = create_engine('sqlite:///my_database.db')\n",
    "\n",
    "# Read data from a SQL table into a DataFrame\n",
    "query = 'SELECT * FROM my_table'\n",
    "df = pd.read_sql(query, engine)"
   ]
  },
  {
   "cell_type": "code",
   "execution_count": 1,
   "id": "49ae44be-6248-474e-a991-4c1e03f3c535",
   "metadata": {},
   "outputs": [],
   "source": [
    "# Normalize"
   ]
  },
  {
   "cell_type": "code",
   "execution_count": 2,
   "id": "d32a7e0d-20cd-4d4c-9ad8-c9b585f760f5",
   "metadata": {},
   "outputs": [],
   "source": [
    "# Add missing data"
   ]
  },
  {
   "cell_type": "code",
   "execution_count": null,
   "id": "2d2e6999-0bef-45fa-98fc-c4998ba903a5",
   "metadata": {},
   "outputs": [],
   "source": [
    "# Push data "
   ]
  }
 ],
 "metadata": {
  "kernelspec": {
   "display_name": "Python 3 (ipykernel)",
   "language": "python",
   "name": "python3"
  },
  "language_info": {
   "codemirror_mode": {
    "name": "ipython",
    "version": 3
   },
   "file_extension": ".py",
   "mimetype": "text/x-python",
   "name": "python",
   "nbconvert_exporter": "python",
   "pygments_lexer": "ipython3",
   "version": "3.11.6"
  }
 },
 "nbformat": 4,
 "nbformat_minor": 5
}
